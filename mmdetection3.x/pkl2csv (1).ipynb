{
  "cells": [
    {
      "cell_type": "code",
      "execution_count": 1,
      "id": "rBhsuxJ7wWJx",
      "metadata": {
        "id": "rBhsuxJ7wWJx"
      },
      "outputs": [],
      "source": [
        "import pandas as pd\n",
        "import pickle\n",
        "from matplotlib import pyplot as plt\n",
        "pkl_path = \"\" # out.pkl path\n",
        "\n",
        "with open(pkl_path,\"rb\") as fr:\n",
        "    data = pickle.load(fr)\n",
        "\n",
        "results = pd.read_csv('sample_submission.csv', index_col=None)    \n",
        "test_img_paths = 'data/test/'\n",
        "\n",
        "for prediction in data:  \n",
        "  filename = prediction['img_path'].split('/')[-1]\n",
        "  if not prediction['pred_instances']['bboxes'].tolist():\n",
        "      continue  \n",
        "  preds = prediction['pred_instances']\n",
        "  for score, label, bbox in zip(preds['scores'].tolist(), preds['labels'], preds['bboxes']):\n",
        "    x1, y1, x2, y2 = bbox.tolist()\n",
        "    label = label.item()\n",
        "    r = pd.DataFrame( [{\"file_name\" : filename,\n",
        "            \"class_id\" : label,\n",
        "            \"confidence\" : score,\n",
        "            \"point1_x\" : x1, \"point1_y\" : y1,\n",
        "            \"point2_x\" : x2, \"point2_y\" : y1,\n",
        "            \"point3_x\" : x2, \"point3_y\" : y2,\n",
        "            \"point4_x\" : x1, \"point4_y\" : y2}])    \n",
        "    results = pd.concat([results, r]).reset_index(drop=True)\n",
        "results.to_csv('custom_cutout_v5.csv', index=None)    "
      ]
    }
  ],
  "metadata": {
    "accelerator": "GPU",
    "colab": {
      "gpuType": "A100",
      "machine_shape": "hm",
      "provenance": []
    },
    "kernelspec": {
      "display_name": "Python 3",
      "name": "python3"
    },
    "language_info": {
      "codemirror_mode": {
        "name": "ipython",
        "version": 3
      },
      "file_extension": ".py",
      "mimetype": "text/x-python",
      "name": "python",
      "nbconvert_exporter": "python",
      "pygments_lexer": "ipython3",
      "version": "3.8.16"
    }
  },
  "nbformat": 4,
  "nbformat_minor": 5
}
